{
 "cells": [
  {
   "cell_type": "markdown",
   "metadata": {},
   "source": [
    "## Feature Engineering Ideas\n",
    "\n",
    "1. Genre id: Imp\n",
    "2. ts_listen: \n",
    "3. media id: \n",
    "4. album id: \n",
    "5. context type: \n",
    "6. release date: \n",
    "7. Platform name: \n",
    "8. Platform family: Might want use just either\n",
    "9. Media duration:\n",
    "10. Listen type: \n",
    "11. user_gender:  Gender doesn't seem to matter much, try training with and without it\n",
    "12. user_id: User Id will indicate user is OLD or new, try categorizing it\n",
    "3. artist_id: Same with artist Ids, old artists may have joined early and migh have more loyal fans\n",
    "5. user_age: could be important, younger users could be more random and variety seeking? From the plots seems like the population that listened has the distribution skewed towards aged population and vice versa."
   ]
  },
  {
   "cell_type": "code",
   "execution_count": 1,
   "metadata": {
    "collapsed": true
   },
   "outputs": [],
   "source": [
    "import pandas as pd"
   ]
  },
  {
   "cell_type": "code",
   "execution_count": 2,
   "metadata": {
    "collapsed": false
   },
   "outputs": [
    {
     "data": {
      "text/html": [
       "<div>\n",
       "<table border=\"1\" class=\"dataframe\">\n",
       "  <thead>\n",
       "    <tr style=\"text-align: right;\">\n",
       "      <th></th>\n",
       "      <th>genre_id</th>\n",
       "      <th>ts_listen</th>\n",
       "      <th>media_id</th>\n",
       "      <th>album_id</th>\n",
       "      <th>context_type</th>\n",
       "      <th>release_date</th>\n",
       "      <th>platform_name</th>\n",
       "      <th>platform_family</th>\n",
       "      <th>media_duration</th>\n",
       "      <th>listen_type</th>\n",
       "      <th>user_gender</th>\n",
       "      <th>user_id</th>\n",
       "      <th>artist_id</th>\n",
       "      <th>user_age</th>\n",
       "      <th>is_listened</th>\n",
       "    </tr>\n",
       "  </thead>\n",
       "  <tbody>\n",
       "    <tr>\n",
       "      <th>0</th>\n",
       "      <td>25471</td>\n",
       "      <td>1480597215</td>\n",
       "      <td>222606</td>\n",
       "      <td>41774</td>\n",
       "      <td>12</td>\n",
       "      <td>20040704</td>\n",
       "      <td>1</td>\n",
       "      <td>0</td>\n",
       "      <td>223</td>\n",
       "      <td>0</td>\n",
       "      <td>0</td>\n",
       "      <td>9241</td>\n",
       "      <td>55164</td>\n",
       "      <td>29</td>\n",
       "      <td>0</td>\n",
       "    </tr>\n",
       "    <tr>\n",
       "      <th>1</th>\n",
       "      <td>25571</td>\n",
       "      <td>1480544735</td>\n",
       "      <td>250467</td>\n",
       "      <td>43941</td>\n",
       "      <td>0</td>\n",
       "      <td>20060301</td>\n",
       "      <td>2</td>\n",
       "      <td>1</td>\n",
       "      <td>171</td>\n",
       "      <td>0</td>\n",
       "      <td>0</td>\n",
       "      <td>16547</td>\n",
       "      <td>55830</td>\n",
       "      <td>30</td>\n",
       "      <td>1</td>\n",
       "    </tr>\n",
       "    <tr>\n",
       "      <th>2</th>\n",
       "      <td>16</td>\n",
       "      <td>1479563953</td>\n",
       "      <td>305197</td>\n",
       "      <td>48078</td>\n",
       "      <td>1</td>\n",
       "      <td>20140714</td>\n",
       "      <td>2</td>\n",
       "      <td>1</td>\n",
       "      <td>149</td>\n",
       "      <td>1</td>\n",
       "      <td>1</td>\n",
       "      <td>7665</td>\n",
       "      <td>2704</td>\n",
       "      <td>29</td>\n",
       "      <td>1</td>\n",
       "    </tr>\n",
       "    <tr>\n",
       "      <th>3</th>\n",
       "      <td>7</td>\n",
       "      <td>1480152098</td>\n",
       "      <td>900502</td>\n",
       "      <td>71521</td>\n",
       "      <td>0</td>\n",
       "      <td>20001030</td>\n",
       "      <td>0</td>\n",
       "      <td>0</td>\n",
       "      <td>240</td>\n",
       "      <td>0</td>\n",
       "      <td>1</td>\n",
       "      <td>1580</td>\n",
       "      <td>938</td>\n",
       "      <td>30</td>\n",
       "      <td>0</td>\n",
       "    </tr>\n",
       "    <tr>\n",
       "      <th>4</th>\n",
       "      <td>7</td>\n",
       "      <td>1478368974</td>\n",
       "      <td>542335</td>\n",
       "      <td>71718</td>\n",
       "      <td>0</td>\n",
       "      <td>20080215</td>\n",
       "      <td>0</td>\n",
       "      <td>0</td>\n",
       "      <td>150</td>\n",
       "      <td>0</td>\n",
       "      <td>1</td>\n",
       "      <td>1812</td>\n",
       "      <td>2939</td>\n",
       "      <td>24</td>\n",
       "      <td>1</td>\n",
       "    </tr>\n",
       "  </tbody>\n",
       "</table>\n",
       "</div>"
      ],
      "text/plain": [
       "   genre_id   ts_listen  media_id  album_id  context_type  release_date  \\\n",
       "0     25471  1480597215    222606     41774            12      20040704   \n",
       "1     25571  1480544735    250467     43941             0      20060301   \n",
       "2        16  1479563953    305197     48078             1      20140714   \n",
       "3         7  1480152098    900502     71521             0      20001030   \n",
       "4         7  1478368974    542335     71718             0      20080215   \n",
       "\n",
       "   platform_name  platform_family  media_duration  listen_type  user_gender  \\\n",
       "0              1                0             223            0            0   \n",
       "1              2                1             171            0            0   \n",
       "2              2                1             149            1            1   \n",
       "3              0                0             240            0            1   \n",
       "4              0                0             150            0            1   \n",
       "\n",
       "   user_id  artist_id  user_age  is_listened  \n",
       "0     9241      55164        29            0  \n",
       "1    16547      55830        30            1  \n",
       "2     7665       2704        29            1  \n",
       "3     1580        938        30            0  \n",
       "4     1812       2939        24            1  "
      ]
     },
     "execution_count": 2,
     "metadata": {},
     "output_type": "execute_result"
    }
   ],
   "source": [
    "train = pd.read_csv(\"train.csv\")\n",
    "train.head()"
   ]
  },
  {
   "cell_type": "code",
   "execution_count": 4,
   "metadata": {
    "collapsed": false
   },
   "outputs": [
    {
     "data": {
      "text/html": [
       "<div>\n",
       "<table border=\"1\" class=\"dataframe\">\n",
       "  <thead>\n",
       "    <tr style=\"text-align: right;\">\n",
       "      <th></th>\n",
       "      <th>genre_id</th>\n",
       "      <th>ts_listen</th>\n",
       "      <th>media_id</th>\n",
       "      <th>album_id</th>\n",
       "      <th>context_type</th>\n",
       "      <th>release_date</th>\n",
       "      <th>platform_name</th>\n",
       "      <th>platform_family</th>\n",
       "      <th>media_duration</th>\n",
       "      <th>listen_type</th>\n",
       "      <th>user_gender</th>\n",
       "      <th>user_id</th>\n",
       "      <th>artist_id</th>\n",
       "      <th>user_age</th>\n",
       "      <th>is_listened</th>\n",
       "    </tr>\n",
       "  </thead>\n",
       "  <tbody>\n",
       "    <tr>\n",
       "      <th>count</th>\n",
       "      <td>7.558834e+06</td>\n",
       "      <td>7.558834e+06</td>\n",
       "      <td>7.558834e+06</td>\n",
       "      <td>7.558834e+06</td>\n",
       "      <td>7.558834e+06</td>\n",
       "      <td>7.558834e+06</td>\n",
       "      <td>7.558834e+06</td>\n",
       "      <td>7.558834e+06</td>\n",
       "      <td>7.558834e+06</td>\n",
       "      <td>7.558834e+06</td>\n",
       "      <td>7.558834e+06</td>\n",
       "      <td>7.558834e+06</td>\n",
       "      <td>7.558834e+06</td>\n",
       "      <td>7.558834e+06</td>\n",
       "      <td>7.558834e+06</td>\n",
       "    </tr>\n",
       "    <tr>\n",
       "      <th>mean</th>\n",
       "      <td>2.245030e+03</td>\n",
       "      <td>1.479011e+09</td>\n",
       "      <td>7.839624e+07</td>\n",
       "      <td>8.136169e+06</td>\n",
       "      <td>2.360018e+00</td>\n",
       "      <td>2.011388e+07</td>\n",
       "      <td>4.731900e-01</td>\n",
       "      <td>2.558086e-01</td>\n",
       "      <td>2.311527e+02</td>\n",
       "      <td>3.068742e-01</td>\n",
       "      <td>3.936884e-01</td>\n",
       "      <td>4.037300e+03</td>\n",
       "      <td>1.500740e+06</td>\n",
       "      <td>2.431278e+01</td>\n",
       "      <td>6.840330e-01</td>\n",
       "    </tr>\n",
       "    <tr>\n",
       "      <th>std</th>\n",
       "      <td>1.308979e+04</td>\n",
       "      <td>1.189935e+07</td>\n",
       "      <td>5.133633e+07</td>\n",
       "      <td>5.460090e+06</td>\n",
       "      <td>4.659856e+00</td>\n",
       "      <td>7.570138e+04</td>\n",
       "      <td>7.353008e-01</td>\n",
       "      <td>5.481663e-01</td>\n",
       "      <td>7.999463e+01</td>\n",
       "      <td>4.611968e-01</td>\n",
       "      <td>4.885672e-01</td>\n",
       "      <td>3.954754e+03</td>\n",
       "      <td>2.519546e+06</td>\n",
       "      <td>3.767797e+00</td>\n",
       "      <td>4.648999e-01</td>\n",
       "    </tr>\n",
       "    <tr>\n",
       "      <th>min</th>\n",
       "      <td>0.000000e+00</td>\n",
       "      <td>1.000000e+00</td>\n",
       "      <td>2.000580e+05</td>\n",
       "      <td>1.976000e+03</td>\n",
       "      <td>0.000000e+00</td>\n",
       "      <td>1.900010e+07</td>\n",
       "      <td>0.000000e+00</td>\n",
       "      <td>0.000000e+00</td>\n",
       "      <td>0.000000e+00</td>\n",
       "      <td>0.000000e+00</td>\n",
       "      <td>0.000000e+00</td>\n",
       "      <td>0.000000e+00</td>\n",
       "      <td>1.000000e+00</td>\n",
       "      <td>1.800000e+01</td>\n",
       "      <td>0.000000e+00</td>\n",
       "    </tr>\n",
       "    <tr>\n",
       "      <th>25%</th>\n",
       "      <td>0.000000e+00</td>\n",
       "      <td>1.478460e+09</td>\n",
       "      <td>1.376614e+07</td>\n",
       "      <td>1.255566e+06</td>\n",
       "      <td>0.000000e+00</td>\n",
       "      <td>2.009123e+07</td>\n",
       "      <td>0.000000e+00</td>\n",
       "      <td>0.000000e+00</td>\n",
       "      <td>1.960000e+02</td>\n",
       "      <td>0.000000e+00</td>\n",
       "      <td>0.000000e+00</td>\n",
       "      <td>8.990000e+02</td>\n",
       "      <td>2.605000e+03</td>\n",
       "      <td>2.100000e+01</td>\n",
       "      <td>0.000000e+00</td>\n",
       "    </tr>\n",
       "    <tr>\n",
       "      <th>50%</th>\n",
       "      <td>3.000000e+00</td>\n",
       "      <td>1.479057e+09</td>\n",
       "      <td>9.380660e+07</td>\n",
       "      <td>9.525626e+06</td>\n",
       "      <td>1.000000e+00</td>\n",
       "      <td>2.014103e+07</td>\n",
       "      <td>0.000000e+00</td>\n",
       "      <td>0.000000e+00</td>\n",
       "      <td>2.220000e+02</td>\n",
       "      <td>0.000000e+00</td>\n",
       "      <td>0.000000e+00</td>\n",
       "      <td>2.738000e+03</td>\n",
       "      <td>1.941720e+05</td>\n",
       "      <td>2.500000e+01</td>\n",
       "      <td>1.000000e+00</td>\n",
       "    </tr>\n",
       "    <tr>\n",
       "      <th>75%</th>\n",
       "      <td>2.700000e+01</td>\n",
       "      <td>1.479742e+09</td>\n",
       "      <td>1.262592e+08</td>\n",
       "      <td>1.329221e+07</td>\n",
       "      <td>2.000000e+00</td>\n",
       "      <td>2.016061e+07</td>\n",
       "      <td>1.000000e+00</td>\n",
       "      <td>0.000000e+00</td>\n",
       "      <td>2.540000e+02</td>\n",
       "      <td>1.000000e+00</td>\n",
       "      <td>1.000000e+00</td>\n",
       "      <td>6.064000e+03</td>\n",
       "      <td>1.519461e+06</td>\n",
       "      <td>2.800000e+01</td>\n",
       "      <td>1.000000e+00</td>\n",
       "    </tr>\n",
       "    <tr>\n",
       "      <th>max</th>\n",
       "      <td>2.597310e+05</td>\n",
       "      <td>1.480636e+09</td>\n",
       "      <td>1.372601e+08</td>\n",
       "      <td>1.472086e+07</td>\n",
       "      <td>7.300000e+01</td>\n",
       "      <td>3.000010e+07</td>\n",
       "      <td>2.000000e+00</td>\n",
       "      <td>2.000000e+00</td>\n",
       "      <td>6.553500e+04</td>\n",
       "      <td>1.000000e+00</td>\n",
       "      <td>1.000000e+00</td>\n",
       "      <td>1.991700e+04</td>\n",
       "      <td>1.144741e+07</td>\n",
       "      <td>3.000000e+01</td>\n",
       "      <td>1.000000e+00</td>\n",
       "    </tr>\n",
       "  </tbody>\n",
       "</table>\n",
       "</div>"
      ],
      "text/plain": [
       "           genre_id     ts_listen      media_id      album_id  context_type  \\\n",
       "count  7.558834e+06  7.558834e+06  7.558834e+06  7.558834e+06  7.558834e+06   \n",
       "mean   2.245030e+03  1.479011e+09  7.839624e+07  8.136169e+06  2.360018e+00   \n",
       "std    1.308979e+04  1.189935e+07  5.133633e+07  5.460090e+06  4.659856e+00   \n",
       "min    0.000000e+00  1.000000e+00  2.000580e+05  1.976000e+03  0.000000e+00   \n",
       "25%    0.000000e+00  1.478460e+09  1.376614e+07  1.255566e+06  0.000000e+00   \n",
       "50%    3.000000e+00  1.479057e+09  9.380660e+07  9.525626e+06  1.000000e+00   \n",
       "75%    2.700000e+01  1.479742e+09  1.262592e+08  1.329221e+07  2.000000e+00   \n",
       "max    2.597310e+05  1.480636e+09  1.372601e+08  1.472086e+07  7.300000e+01   \n",
       "\n",
       "       release_date  platform_name  platform_family  media_duration  \\\n",
       "count  7.558834e+06   7.558834e+06     7.558834e+06    7.558834e+06   \n",
       "mean   2.011388e+07   4.731900e-01     2.558086e-01    2.311527e+02   \n",
       "std    7.570138e+04   7.353008e-01     5.481663e-01    7.999463e+01   \n",
       "min    1.900010e+07   0.000000e+00     0.000000e+00    0.000000e+00   \n",
       "25%    2.009123e+07   0.000000e+00     0.000000e+00    1.960000e+02   \n",
       "50%    2.014103e+07   0.000000e+00     0.000000e+00    2.220000e+02   \n",
       "75%    2.016061e+07   1.000000e+00     0.000000e+00    2.540000e+02   \n",
       "max    3.000010e+07   2.000000e+00     2.000000e+00    6.553500e+04   \n",
       "\n",
       "        listen_type   user_gender       user_id     artist_id      user_age  \\\n",
       "count  7.558834e+06  7.558834e+06  7.558834e+06  7.558834e+06  7.558834e+06   \n",
       "mean   3.068742e-01  3.936884e-01  4.037300e+03  1.500740e+06  2.431278e+01   \n",
       "std    4.611968e-01  4.885672e-01  3.954754e+03  2.519546e+06  3.767797e+00   \n",
       "min    0.000000e+00  0.000000e+00  0.000000e+00  1.000000e+00  1.800000e+01   \n",
       "25%    0.000000e+00  0.000000e+00  8.990000e+02  2.605000e+03  2.100000e+01   \n",
       "50%    0.000000e+00  0.000000e+00  2.738000e+03  1.941720e+05  2.500000e+01   \n",
       "75%    1.000000e+00  1.000000e+00  6.064000e+03  1.519461e+06  2.800000e+01   \n",
       "max    1.000000e+00  1.000000e+00  1.991700e+04  1.144741e+07  3.000000e+01   \n",
       "\n",
       "        is_listened  \n",
       "count  7.558834e+06  \n",
       "mean   6.840330e-01  \n",
       "std    4.648999e-01  \n",
       "min    0.000000e+00  \n",
       "25%    0.000000e+00  \n",
       "50%    1.000000e+00  \n",
       "75%    1.000000e+00  \n",
       "max    1.000000e+00  "
      ]
     },
     "execution_count": 4,
     "metadata": {},
     "output_type": "execute_result"
    }
   ],
   "source": [
    "train.describe()"
   ]
  },
  {
   "cell_type": "code",
   "execution_count": 5,
   "metadata": {
    "collapsed": true
   },
   "outputs": [],
   "source": [
    "# matplotlib and seaborn\n",
    "import matplotlib.pyplot as plt\n",
    "import seaborn as sns\n",
    "sns.set_style('white')\n",
    "%matplotlib inline\n",
    "plt.rcParams.update({'font.size': 22})"
   ]
  },
  {
   "cell_type": "code",
   "execution_count": 6,
   "metadata": {
    "collapsed": false
   },
   "outputs": [
    {
     "data": {
      "text/plain": [
       "<matplotlib.axes._subplots.AxesSubplot at 0x11998a128>"
      ]
     },
     "execution_count": 6,
     "metadata": {},
     "output_type": "execute_result"
    },
    {
     "data": {
      "image/png": "[encoded data removed]",
      "text/plain": [
       "<matplotlib.figure.Figure at 0x1178e5978>"
      ]
     },
     "metadata": {},
     "output_type": "display_data"
    }
   ],
   "source": [
    "fig, ax1 = plt.subplots(1, 1, figsize=(6,6))\n",
    "sns.barplot(x='user_gender', y='is_listened', data=train, ax=ax1)\n",
    "plt.show()"
   ]
  },
  {
   "cell_type": "code",
   "execution_count": 7,
   "metadata": {
    "collapsed": false
   },
   "outputs": [
    {
     "data": {
      "image/png": "[encoded data removed]",
      "text/plain": [
       "<matplotlib.figure.Figure at 0x119972f28>"
      ]
     },
     "metadata": {},
     "output_type": "display_data"
    }
   ],
   "source": [
    "# Check with platform type and platform name \n",
    "fig, (ax1, ax2) = plt.subplots(1, 2, figsize=(14,4))\n",
    "ax1.set_title('Is Listened for Platform Name')\n",
    "sns.barplot(x='platform_name', y='is_listened', hue='user_gender', data=train, ax=ax1)\n",
    "\n",
    "ax2.set_title('Is Listened for Platform Family')\n",
    "sns.barplot(x='platform_family', y='is_listened', hue='user_gender', data=train, ax=ax2)\n",
    "sns.despine()\n",
    "sns.set(font_scale=1.4)\n",
    "ax2.legend_.remove()\n",
    "ax1.legend(loc='upper right')\n",
    "plt.show()"
   ]
  },
  {
   "cell_type": "code",
   "execution_count": 9,
   "metadata": {
    "collapsed": false
   },
   "outputs": [],
   "source": [
    "# Randomly sample 20% of your dataframe\n",
    "train_short = train.sample(frac=0.2)"
   ]
  },
  {
   "cell_type": "code",
   "execution_count": 14,
   "metadata": {
    "collapsed": false
   },
   "outputs": [
    {
     "data": {
      "image/png": "[encoded data removed]",
      "text/plain": [
       "<matplotlib.figure.Figure at 0x11537d5f8>"
      ]
     },
     "metadata": {},
     "output_type": "display_data"
    }
   ],
   "source": [
    "# Check with Age\n",
    "g = sns.FacetGrid(train_short, col=\"is_listened\", hue='user_gender', size=5, aspect = 1.2)\n",
    "g.map(sns.kdeplot, \"user_age\", shade=True, gridsize= 8).add_legend().fig.subplots_adjust(wspace=.3)\n",
    "sns.despine()\n",
    "sns.set(font_scale=2)\n",
    "plt.show()"
   ]
  },
  {
   "cell_type": "code",
   "execution_count": null,
   "metadata": {
    "collapsed": true
   },
   "outputs": [],
   "source": []
  }
 ],
 "metadata": {
  "kernelspec": {
   "display_name": "Python 3",
   "language": "python",
   "name": "python3"
  },
  "language_info": {
   "codemirror_mode": {
    "name": "ipython",
    "version": 3
   },
   "file_extension": ".py",
   "mimetype": "text/x-python",
   "name": "python",
   "nbconvert_exporter": "python",
   "pygments_lexer": "ipython3",
   "version": "3.6.0"
  }
 },
 "nbformat": 4,
 "nbformat_minor": 2
}
